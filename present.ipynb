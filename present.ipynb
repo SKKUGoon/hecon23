{
 "cells": [
  {
   "cell_type": "code",
   "execution_count": 1,
   "metadata": {},
   "outputs": [],
   "source": [
    "import pandas as pd\n",
    "\n",
    "from mod.logs import Logger\n",
    "from mod.dao import MyConn, SqlStatement\n",
    "from data_lake import PT_TABLE, OP_TABLE, DX_TABLE\n"
   ]
  },
  {
   "cell_type": "code",
   "execution_count": 6,
   "metadata": {},
   "outputs": [],
   "source": [
    "# Prepare modules\n",
    "l = Logger()\n",
    "conn = MyConn(\"127.0.0.1\", \"hecon\", l, False)\n",
    "builder = SqlStatement()"
   ]
  },
  {
   "cell_type": "code",
   "execution_count": 7,
   "metadata": {},
   "outputs": [
    {
     "name": "stdout",
     "output_type": "stream",
     "text": [
      "\n",
      "        select * from hecon.pt_dl\n",
      "        \n",
      "\n",
      "        select * from hecon.op_dl\n",
      "        \n",
      "\n",
      "        select * from hecon.dx_dl\n",
      "        \n"
     ]
    }
   ],
   "source": [
    "# Load data from database\n",
    "pt = conn.wrap(builder.read_data, table=PT_TABLE)\n",
    "op = conn.wrap(builder.read_data, table=OP_TABLE)\n",
    "dx = conn.wrap(builder.read_data, table=DX_TABLE)"
   ]
  },
  {
   "cell_type": "code",
   "execution_count": 16,
   "metadata": {},
   "outputs": [],
   "source": [
    "# Exclude \n",
    "# 1. Zero inflation\n",
    "script = \"\"\"\n",
    "    SELECT \n",
    "      id,\n",
    "      SUM(value = 0) AS count_of_zeros,\n",
    "      COUNT(*) as total_count,\n",
    "      (SUM(value = 0) / COUNT(*)) AS zero_ratio\n",
    "    FROM\n",
    "      dx_dl\n",
    "    GROUP BY\n",
    "      id;\n",
    "    HAVING\n",
    "      zero_ratio < 0.9\n",
    "\"\"\""
   ]
  },
  {
   "cell_type": "code",
   "execution_count": null,
   "metadata": {},
   "outputs": [],
   "source": []
  }
 ],
 "metadata": {
  "kernelspec": {
   "display_name": "hecon23",
   "language": "python",
   "name": "python3"
  },
  "language_info": {
   "codemirror_mode": {
    "name": "ipython",
    "version": 3
   },
   "file_extension": ".py",
   "mimetype": "text/x-python",
   "name": "python",
   "nbconvert_exporter": "python",
   "pygments_lexer": "ipython3",
   "version": "3.11.1"
  },
  "orig_nbformat": 4
 },
 "nbformat": 4,
 "nbformat_minor": 2
}
