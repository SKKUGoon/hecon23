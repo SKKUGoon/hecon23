{
 "cells": [
  {
   "cell_type": "code",
   "execution_count": 1,
   "metadata": {},
   "outputs": [],
   "source": [
    "import pandas as pd\n",
    "import numpy as np\n",
    "import matplotlib.pyplot as plt\n",
    "\n",
    "from mod.logs import Logger\n",
    "\n",
    "# Database access\n",
    "from mod.dao import MyConn, SqlStatement\n",
    "from data_lake import PT_TABLE, OP_TABLE, DX_TABLE, DATE_TABLE\n",
    "\n",
    "# Data cleaning reproduction\n",
    "from mod.clean.pca import check_series_num, prep_pca, reduce_dim\n",
    "\n",
    "# Data distance reproduction\n",
    "from mod.distance.sbd import shape_based_distance\n",
    "from scipy.spatial.distance import pdist, squareform\n",
    "from scipy.cluster.hierarchy import linkage, dendrogram, fcluster\n",
    "\n",
    "# MCRF and prediction reproduction\n",
    "from mod.prediction import week_prediction\n",
    "\n",
    "import sys\n",
    "import copy"
   ]
  },
  {
   "cell_type": "code",
   "execution_count": 2,
   "metadata": {},
   "outputs": [
    {
     "name": "stdout",
     "output_type": "stream",
     "text": [
      "Python version\n",
      "3.10.0 (default, Sep 17 2023, 19:13:35) [Clang 14.0.3 (clang-1403.0.22.14.1)]\n",
      "Version info.\n",
      "sys.version_info(major=3, minor=10, micro=0, releaselevel='final', serial=0)\n"
     ]
    }
   ],
   "source": [
    "# Check the versions of python\n",
    "print(\"Python version\")\n",
    "print(sys.version)\n",
    "print(\"Version info.\")\n",
    "print(sys.version_info)"
   ]
  },
  {
   "cell_type": "markdown",
   "metadata": {},
   "source": [
    "# 1. Analysis"
   ]
  },
  {
   "cell_type": "markdown",
   "metadata": {},
   "source": [
    "## (1) Data Cleaning"
   ]
  },
  {
   "cell_type": "markdown",
   "metadata": {},
   "source": [
    "### I. 종속변수\n",
    "종속변수는 병동 카트장 숑량 데이터 사용.\n",
    "\n",
    "연구자가 (데이터 전처리 과정을 통해서 이미 56개의 분류를 끝나놓은 상태)\n",
    "\n",
    "`remove_ts_duplicates`를 이용해서 중복 주문 전부 삭제하고 56개의 물품 코드를 기준으로 시계열 생성. (56개)"
   ]
  },
  {
   "cell_type": "code",
   "execution_count": 3,
   "metadata": {},
   "outputs": [],
   "source": [
    "# Funtion that remove duplicates with specific columns as key\n",
    "def remove_ts_duplicates(data: pd.DataFrame):\n",
    "    # Drop if no status\n",
    "    data = data.dropna(subset=['진행상태'])\n",
    "    \n",
    "    # Sort by date (출고일) ensure them in correct order (to get last duplicate)\n",
    "    data = data.sort_values(by='출고일')\n",
    "\n",
    "    # Find the index of 3 values \"정수수량\", \"실사수량\", \"출고수량\",\n",
    "    col = data.columns.to_list()\n",
    "    dup_col_idx = [col.index(\"정수수량\"), col.index(\"실사수량\"), col.index(\"출고수량\"), col.index(\"출고요일\")]\n",
    "    \n",
    "    # Remove `consecutive` duplicates based on dup_keys.\n",
    "    data_np = data.to_numpy()\n",
    "    \n",
    "    # Start with first row included\n",
    "    nodup_data = list()\n",
    "\n",
    "    previous_row = None\n",
    "\n",
    "    for i in range(len(data_np)):\n",
    "        current_row = data_np[i, dup_col_idx]\n",
    "        \n",
    "        if previous_row is None:\n",
    "            # Add the first line to previous row\n",
    "            previous_row = current_row\n",
    "            continue\n",
    "\n",
    "        if not all(previous_row == current_row):\n",
    "            # Not duplicate\n",
    "            nodup_data.append(data_np[i-1])\n",
    "\n",
    "            # Rewrite previous row\n",
    "            previous_row = current_row\n",
    "        else:\n",
    "            continue\n",
    "\n",
    "    # Clean up the rest\n",
    "    if previous_row is not None:\n",
    "        nodup_data.append(data_np[len(data_np)-1])\n",
    "\n",
    "    nodup_df = pd.DataFrame(nodup_data, columns=data.columns)\n",
    "    \n",
    "    return nodup_df\n"
   ]
  },
  {
   "cell_type": "code",
   "execution_count": 4,
   "metadata": {},
   "outputs": [
    {
     "name": "stdout",
     "output_type": "stream",
     "text": [
      "521000597 being processed. 1/56\n",
      "521000637 being processed. 2/56\n",
      "521000646 being processed. 3/56\n",
      "521000647 being processed. 4/56\n",
      "521013370 being processed. 5/56\n",
      "521013385 being processed. 6/56\n",
      "521054730 being processed. 7/56\n",
      "521081445 being processed. 8/56\n",
      "521086067 being processed. 9/56\n",
      "521086099 being processed. 10/56\n",
      "521086112 being processed. 11/56\n",
      "521127897 being processed. 12/56\n",
      "521577014 being processed. 13/56\n",
      "521577015 being processed. 14/56\n",
      "524406743 being processed. 15/56\n",
      "526500005 being processed. 16/56\n",
      "526500011 being processed. 17/56\n",
      "526500025 being processed. 18/56\n",
      "526526008 being processed. 19/56\n",
      "526526024 being processed. 20/56\n",
      "526615461 being processed. 21/56\n",
      "526674325 being processed. 22/56\n",
      "526700004 being processed. 23/56\n",
      "526715420 being processed. 24/56\n",
      "526715426 being processed. 25/56\n",
      "526720080 being processed. 26/56\n",
      "526736132 being processed. 27/56\n",
      "526800138 being processed. 28/56\n",
      "526900302 being processed. 29/56\n",
      "526900554 being processed. 30/56\n",
      "526900689 being processed. 31/56\n",
      "526900690 being processed. 32/56\n",
      "526900691 being processed. 33/56\n",
      "526900760 being processed. 34/56\n",
      "526901050 being processed. 35/56\n",
      "526903480 being processed. 36/56\n",
      "526903484 being processed. 37/56\n",
      "526904770 being processed. 38/56\n",
      "526910042 being processed. 39/56\n",
      "526910043 being processed. 40/56\n",
      "526910044 being processed. 41/56\n",
      "526910045 being processed. 42/56\n",
      "526914317 being processed. 43/56\n",
      "526914319 being processed. 44/56\n",
      "526930650 being processed. 45/56\n",
      "526935077 being processed. 46/56\n",
      "526936150 being processed. 47/56\n",
      "526959922 being processed. 48/56\n",
      "526977253 being processed. 49/56\n",
      "526977254 being processed. 50/56\n",
      "526978752 being processed. 51/56\n",
      "528584740 being processed. 52/56\n",
      "528800074 being processed. 53/56\n",
      "528806750 being processed. 54/56\n",
      "543040200 being processed. 55/56\n",
      "543050111 being processed. 56/56\n"
     ]
    }
   ],
   "source": [
    "# TODO: Get it from database\n",
    "use_df = pd.read_csv(\"./asset/CART_USE_12_20220804.csv\")\n",
    "\n",
    "# Group by using 물품코드. \n",
    "grouped = use_df.groupby('물품코드')\n",
    "\n",
    "# The researcher has already outlined the usage data. (56)\n",
    "predefined_result = {\n",
    "    \"521000597\", \"526615461\", \"526736132\", \"521013385\", \"521081445\", \"521054730\", \"526904770\",\n",
    "    \"526900760\", \"526526008\", \"526959922\", \"526935077\", \"526700004\", \"526720080\", \"521013370\",\n",
    "    \"526800138\", \"526900691\", \"526901050\", \"521086112\", \"526715420\", \"526910042\", \"526936150\",\n",
    "    \"528584740\", \"528806750\", \"526903484\", \"526903480\", \"526977253\", \"526977254\", \"521577014\",\n",
    "    \"521577015\", \"526500005\", \"526500011\", \"526500025\", \"521000637\", \"526978752\", \"524406743\",\n",
    "    \"526674325\", \"521000646\", \"521000647\", \"521086099\", \"521086067\", \"526900554\", \"526715426\",\n",
    "    \"526914319\", \"521127897\", \"543050111\", \"526910043\", \"526910045\", \"526910044\", \"526526024\",\n",
    "    \"526930650\", \"526900689\", \"526900690\", \"526914317\", \"528800074\", \"526900302\", \"543040200\",\n",
    "}\n",
    "\n",
    "# Define data\n",
    "essential_column = ['출고수량']\n",
    "dfs = []\n",
    "\n",
    "processed = 0\n",
    "for name, group in grouped:\n",
    "    if str(name) not in predefined_result:\n",
    "        continue\n",
    "\n",
    "    processed += 1\n",
    "    print(str(name), f\"being processed. {processed}/{len(predefined_result)}\")\n",
    "\n",
    "    # Delete consecutive duplicate value\n",
    "    nodup_group = remove_ts_duplicates(group)\n",
    "\n",
    "    # Re-index using `출고일`\n",
    "    nodup_group.index = nodup_group['출고일']\n",
    "    nodup_group = nodup_group[essential_column]\n",
    "    nodup_group.columns = [name]\n",
    "    df = nodup_group[~nodup_group.index.duplicated(keep='last')]\n",
    "\n",
    "    dfs.append(df)\n",
    "    \n",
    "# Concat to y\n",
    "y = pd.concat(dfs, axis=1)\n",
    "y = y.sort_index()\n"
   ]
  },
  {
   "cell_type": "markdown",
   "metadata": {},
   "source": [
    "### II. 외생변수 (DX, OP, PT)"
   ]
  },
  {
   "cell_type": "code",
   "execution_count": 5,
   "metadata": {},
   "outputs": [],
   "source": [
    "# Prepare modules\n",
    "l = Logger()\n",
    "conn = MyConn(\"127.0.0.1\", \"hecon\", l, False)\n",
    "builder = SqlStatement()"
   ]
  },
  {
   "cell_type": "code",
   "execution_count": 6,
   "metadata": {},
   "outputs": [
    {
     "name": "stdout",
     "output_type": "stream",
     "text": [
      "\n",
      "        select * from hecon.pt_dl\n",
      "        \n",
      "\n",
      "        select * from hecon.op_dl\n",
      "        \n",
      "\n",
      "        select * from hecon.dx_dl\n",
      "        \n"
     ]
    }
   ],
   "source": [
    "# Load data from database\n",
    "pt = conn.wrap(builder.read_data, table=PT_TABLE)\n",
    "op = conn.wrap(builder.read_data, table=OP_TABLE)\n",
    "dx = conn.wrap(builder.read_data, table=DX_TABLE)"
   ]
  },
  {
   "cell_type": "markdown",
   "metadata": {},
   "source": [
    "### i. Regarding Zero Inflation\n",
    "|\t| 0개수 | 전체 개수 | 0 비율 | 연구자 자료 |\n",
    "|---|------|--------|----|-----------|\n",
    "|OP | 7095 | 10206 | 0.6952 | 약 70% |\n",
    "|DX | 7467 | 10935 | 0.682853224 | 약 69% |"
   ]
  },
  {
   "cell_type": "markdown",
   "metadata": {},
   "source": [
    "### ii. Regarding Principal Component Analysis"
   ]
  },
  {
   "cell_type": "code",
   "execution_count": 7,
   "metadata": {},
   "outputs": [
    {
     "name": "stdout",
     "output_type": "stream",
     "text": [
      "PT time series: 15\n",
      "OP time series: 42\n",
      "DX time series: 45\n",
      "\n",
      "\n"
     ]
    }
   ],
   "source": [
    "# Principal Component Analysis\n",
    "\n",
    "# Reshape data by (TimeFrame * Series) Matrices using `pivot`\n",
    "ptdf = pd.DataFrame(pt)\n",
    "opdf = pd.DataFrame(op)\n",
    "dxdf = pd.DataFrame(dx)\n",
    "\n",
    "ptdf = ptdf.pivot(index=1, columns=0, values=2)\n",
    "opdf = opdf.pivot(index=1, columns=0, values=2)\n",
    "dxdf = dxdf.pivot(index=1, columns=0, values=2)\n",
    "\n",
    "# Without date column\n",
    "print(\"PT time series:\", check_series_num(ptdf))\n",
    "print(\"OP time series:\", check_series_num(opdf))\n",
    "print(\"DX time series:\", check_series_num(dxdf))\n",
    "print(\"\\n\")\n"
   ]
  },
  {
   "cell_type": "markdown",
   "metadata": {},
   "source": [
    "* OP와 DX 데이터 프레임에서 시계열 개수는각각 42개, 45개로 파워포인트 5페이지의 \"42개 변수\", \"45개 변수\"와 일치.\n",
    "* PT를 제외하고, OP + DX 데이터 프레임을 합한 (243 * 87) 매트릭스에서 PCA를 통해 차원 축소. 목표 (87개의 시계열 -> 19개의 시계열)"
   ]
  },
  {
   "cell_type": "markdown",
   "metadata": {},
   "source": []
  },
  {
   "cell_type": "code",
   "execution_count": 8,
   "metadata": {},
   "outputs": [
    {
     "name": "stdout",
     "output_type": "stream",
     "text": [
      "OP & DX data merged by dates. Shape: (215, 87)\n"
     ]
    }
   ],
   "source": [
    "# Prep PCA Data. - Use only 215 data points to prevent data leakage\n",
    "data = prep_pca([opdf, dxdf], 215)\n",
    "print(\"OP & DX data merged by dates. Shape:\", data.shape)\n",
    "\n",
    "# Perform PCA with Standardization as default\n",
    "# `result` has \n",
    "#   1. \"pca_model\":     Fitted `pca` model\n",
    "#   2. \"scaler\":        Fitted `scaler` model\n",
    "#   3. \"pc\":            Principal components\n",
    "#   4. \"explained_var\": Explained variance\n",
    "result = reduce_dim([opdf, dxdf], 19, True, 215, False)"
   ]
  },
  {
   "cell_type": "markdown",
   "metadata": {},
   "source": [
    "Result of the PCA shows that\n",
    "* The total explained variance for selected 19 components are indeed account up to 75% of the total variance. "
   ]
  },
  {
   "cell_type": "markdown",
   "metadata": {},
   "source": [
    "### iii. Add datetime information"
   ]
  },
  {
   "cell_type": "code",
   "execution_count": 9,
   "metadata": {},
   "outputs": [
    {
     "name": "stdout",
     "output_type": "stream",
     "text": [
      "\n",
      "        select * from hecon.dt\n",
      "        \n"
     ]
    }
   ],
   "source": [
    "# Call datetime data from sql\n",
    "date = conn.wrap(builder.read_data, table=DATE_TABLE)\n",
    "date = pd.DataFrame(date)\n",
    "date = date.set_index(0)\n",
    "\n",
    "# Set name of columns\n",
    "date.columns = [\"month\", \"day\", \"year\", \"weekday\"]\n",
    "\n",
    "# Only use 3 columns\n",
    "date = date[[\"month\", \"day\", \"weekday\"]]\n",
    "\n",
    "# Sort in timely order\n",
    "date = date.sort_index()"
   ]
  },
  {
   "cell_type": "markdown",
   "metadata": {},
   "source": [
    "### iv. Y 와 X 만들기\n",
    "y: 1에 정의된 56개의 물품코드 시계열\n",
    "\n",
    "X: 외생변수(과거 7일간) + Datetime information(3개) + PCA(19개) + PT(15개)"
   ]
  },
  {
   "cell_type": "code",
   "execution_count": 10,
   "metadata": {},
   "outputs": [
    {
     "name": "stdout",
     "output_type": "stream",
     "text": [
      "(Principal components + Datetime + 물류_PT) data's shape (243, 429)\n"
     ]
    }
   ],
   "source": [
    "# Add datetime information to Principal components\n",
    "pc_wdt = result['pc'].join(date, how='inner')\n",
    "pc_wdt.head(5)\n",
    "\n",
    "# Add PT data to Principal (components + date).\n",
    "\n",
    "ptdf = pd.DataFrame(pt)\n",
    "ptdf = ptdf.pivot(index=1, columns=0, values=2)\n",
    "x = pc_wdt.join(ptdf)\n",
    "\n",
    "# Fix exogenous variable column name here.\n",
    "# Use copy to create a completely separate entity\n",
    "exogenous_column = copy.deepcopy(x.columns)\n",
    "\n",
    "# Add Past 7 days data\n",
    "past = 7\n",
    "past_dfs = list()\n",
    "\n",
    "for i in range(past):\n",
    "    df = y.shift(i+1)\n",
    "    df.columns = [f\"{x}_ar{i+1}\" for x in y.columns]\n",
    "    past_dfs.append(df)\n",
    "\n",
    "y_ar = pd.concat(past_dfs, axis=1)\n",
    "\n",
    "# Denote it as x.\n",
    "x = pd.concat([x, y_ar], axis=1)\n",
    "x = x.astype(float)  # ensures calculatable data type\n",
    "xnp = x.to_numpy()\n",
    "print(\"(Principal components + Datetime + 물류_PT) data's shape\", x.shape)\n"
   ]
  },
  {
   "cell_type": "code",
   "execution_count": 11,
   "metadata": {},
   "outputs": [],
   "source": [
    "# Fix (re-index) y dataframe (because it's sparse)\n",
    "# using `x` dataframe index\n",
    "y = y.reindex(x.index)"
   ]
  },
  {
   "cell_type": "markdown",
   "metadata": {},
   "source": [
    "## (2) Data Clustering\n",
    "\n",
    "y에서 정의된 물품 코드별 시계열을 clustering. "
   ]
  },
  {
   "cell_type": "code",
   "execution_count": 12,
   "metadata": {},
   "outputs": [],
   "source": [
    "# Distance wrapper\n",
    "def wrap_shape_based_distance(x_array: list | np.ndarray, y_array: list | np.ndarray):\n",
    "    return shape_based_distance(x_array, y_array, True, True, True)"
   ]
  },
  {
   "cell_type": "code",
   "execution_count": 13,
   "metadata": {},
   "outputs": [],
   "source": [
    "# Use 1~215 data to prevent data leakage\n",
    "# (Exempting test data from the scope)\n",
    "train_data_len = 215\n",
    "\n",
    "ynp = y.fillna(0).iloc[:train_data_len].to_numpy()\n",
    "\n",
    "# Calculate, and generate distance matrix of (n, n) dubbed `dist_matrix`\n",
    "# where n is the number of time series.\n",
    "n_series = ynp.shape[1]\n",
    "dist_matrix = np.zeros((n_series, n_series))\n",
    "\n",
    "for i in range(n_series):\n",
    "    for j in range(n_series):\n",
    "        try:\n",
    "            dist_matrix[i][j] = wrap_shape_based_distance(ynp[:, i], ynp[:, j])[\"dist\"]\n",
    "            if dist_matrix[i][j] != dist_matrix[i][j]:\n",
    "                print(i, j, \"nan\")\n",
    "        except TypeError as e:\n",
    "            print(e)\n",
    "            print(\"error occurred on\", i, j)\n",
    "            raise e"
   ]
  },
  {
   "cell_type": "code",
   "execution_count": 14,
   "metadata": {},
   "outputs": [
    {
     "data": {
      "image/png": "[encoded data removed]",
      "text/plain": [
       "<Figure size 1000x500 with 1 Axes>"
      ]
     },
     "metadata": {},
     "output_type": "display_data"
    }
   ],
   "source": [
    "# Perform heirarchical clustering\n",
    "linked = linkage(dist_matrix, method='single')\n",
    "\n",
    "# Draw the figure\n",
    "# Define the threshold and display it on the graph\n",
    "THRESHOLD = 0.289\n",
    "\n",
    "plt.figure(figsize=(10, 5))\n",
    "dendrogram(linked, labels=y.columns, link_color_func=lambda _: 'blue')\n",
    "plt.axhline(y=THRESHOLD, color = 'r', linestyle='--')\n",
    "plt.show()"
   ]
  },
  {
   "cell_type": "markdown",
   "metadata": {},
   "source": [
    "<b>연구자의 ppt와 다른 결과가 나옴. </b>\n",
    "\n",
    "Possible deviation 이유\n",
    "\n",
    "1. 데이터 중복 처리 로직\n",
    "2. 재고 데이터에서 현재 (출고 수량) 사용 중.\n",
    "  - ppt, 논문에는 별 언급 없음. 이 시계열 데이터가 맞는지 확인\n",
    "3. 거리 계산 함수의 차이 (가능성 낮음. R 코드 그대로 chat-gpt와 함께 번역)"
   ]
  },
  {
   "cell_type": "code",
   "execution_count": 15,
   "metadata": {},
   "outputs": [
    {
     "name": "stdout",
     "output_type": "stream",
     "text": [
      "Cluster 1: [526977253 526977254]\n",
      "\n",
      "Cluster 2: [521000637 521000647 521013370 521013385 521054730 521086067 521086099\n",
      " 521086112 521127897 521577014 521577015 524406743 526500005 526500011\n",
      " 526500025 526526024 526674325 526700004 526715420 526715426 526720080\n",
      " 526736132 526800138 526900302 526900554 526900690 526900691 526900760\n",
      " 526901050 526903484 526904770 526910042 526910043 526910044 526910045\n",
      " 526914317 526914319 526930650 526936150 526978752 528584740 528800074\n",
      " 528806750 543040200 543050111]\n",
      "\n",
      "Cluster 3: [526900689]\n",
      "\n",
      "Cluster 4: [526903480]\n",
      "\n",
      "Cluster 5: [526615461]\n",
      "\n",
      "Cluster 6: [526959922]\n",
      "\n",
      "Cluster 7: [521000597]\n",
      "\n",
      "Cluster 8: [521000646]\n",
      "\n",
      "Cluster 9: [526935077]\n",
      "\n",
      "Cluster 10: [526526008]\n",
      "\n",
      "Cluster 11: [521081445]\n",
      "\n"
     ]
    }
   ],
   "source": [
    "# Cluster series. Record them on `cluster_map`\n",
    "clusters = fcluster(linked, THRESHOLD, criterion='distance')\n",
    "cluster_map = dict()\n",
    "\n",
    "for i in range(1, max(clusters)+1):\n",
    "    print(f\"Cluster {i}:\", np.array(y.columns)[clusters == i])\n",
    "    print()\n",
    "\n",
    "    cluster_map[i] = np.array(y.columns)[clusters == i].tolist()"
   ]
  },
  {
   "cell_type": "markdown",
   "metadata": {},
   "source": [
    "## (3). Prediction\n",
    "\n",
    "분류된 각 클러스터마다 Multivariate Count Random Forest 실행"
   ]
  },
  {
   "cell_type": "markdown",
   "metadata": {},
   "source": [
    "### MCRF Model: Multivariate Count Random Forest\n",
    "\n",
    "As for `multivariate`, we observed multiple values for our dependent variables. We don't want to fit random forest model to each time series column, therefore we use Multivariate.\n",
    "\n",
    "$$\\{y_{1,t}, y_{2,t}, y_{3,t}, ..., y_{k,t}\\} = \\{y_{1,t-7}, y_{2,t-7}, y_{3,t-7}, ..., y_{k,t-7}, x_{1,t}, x_{2,t}, ... x_{l,t}\\}$$  \n",
    "\n",
    "* My guess: `y`s are the usage of hospital supplies, `x`s includes other things from dataset PT, OP and DX\n",
    "\n",
    "As for `Count`, because dataset uses small amount of occurrance, distribution can be more accurately depicted when we use poisson distribution. \n",
    "* Using poisson distribution part is in `scikit-learn`'s `RandomForestRegressor` package.([scikit-learn's random forest](https://scikit-learn.org/stable/modules/generated/sklearn.ensemble.RandomForestRegressor.html))"
   ]
  },
  {
   "cell_type": "markdown",
   "metadata": {},
   "source": [
    "<b>Setup</b>\n",
    "* Training data: 181 (6 months)\n",
    "* Test data: 28 (4 weeks)\n",
    "* Rolling window update (1 week)\n",
    "* Use of 500 trees"
   ]
  },
  {
   "cell_type": "code",
   "execution_count": 22,
   "metadata": {},
   "outputs": [],
   "source": [
    "def create_ar_column_name(names: list):\n",
    "    ars = 7\n",
    "    col_names = list()\n",
    "    for n in names:\n",
    "        for i in range(ars):\n",
    "            col_names.append(f\"{n}_ar{i+1}\")\n",
    "    return col_names\n",
    "\n",
    "\n",
    "def predict_by_cluster(cluster_key: int, predicting_spot: int):\n",
    "    # Dependent variable\n",
    "    rf_y = y[cluster_map[cluster_key]].fillna(0).to_numpy()\n",
    "\n",
    "    # Independent variables\n",
    "    ar_cols = create_ar_column_name(cluster_map[i])\n",
    "    target_indep = [*ar_cols, *exogenous_column]\n",
    "    rf_x = x[target_indep].fillna(0).to_numpy()\n",
    "\n",
    "    # Split them into train and testing set\n",
    "    train_period = 181\n",
    "    test_period = 28\n",
    "\n",
    "    rf_y_train, rf_x_train = (\n",
    "        rf_y[(predicting_spot-train_period):predicting_spot], \n",
    "        rf_x[(predicting_spot-train_period):predicting_spot]\n",
    "    )\n",
    "    rf_y_test, rf_x_test = (\n",
    "        rf_y[predicting_spot:(predicting_spot+test_period)], \n",
    "        rf_x[predicting_spot:(predicting_spot+test_period)])\n",
    "\n",
    "    print(f\"At index {predicting_spot}\")\n",
    "    print(\"y train shape:\", rf_y_train.shape)\n",
    "    print(\"x train shape:\", rf_x_train.shape)\n",
    "    print(\"y test shape:\", rf_y_test.shape)\n",
    "    print(\"x test shape:\", rf_x_test.shape)\n",
    "\n",
    "    week_prediction(rf_x_train, rf_y_train, rf_x_test)"
   ]
  },
  {
   "cell_type": "code",
   "execution_count": 23,
   "metadata": {},
   "outputs": [
    {
     "name": "stdout",
     "output_type": "stream",
     "text": [
      "At index 215\n",
      "y train shape: (181, 2)\n",
      "x train shape: (181, 44)\n",
      "y test shape: (28, 2)\n",
      "x test shape: (28, 44)\n",
      "Creating model\n",
      "Start fitting model\n",
      "Fitting completed, 1.2893171310424805s\n",
      "[[0.49332457 0.8606127 ]\n",
      " [0.4949926  0.86074501]\n",
      " [0.48734348 0.8655758 ]\n",
      " [0.53424212 0.99308443]\n",
      " [0.45960904 0.82089571]\n",
      " [0.46049889 0.86734631]\n",
      " [0.49714413 0.8674435 ]\n",
      " [0.52887388 0.95746339]\n",
      " [0.46987179 0.82386492]\n",
      " [0.45327919 0.88487257]\n",
      " [0.53269344 0.95817676]\n",
      " [0.46725254 0.82373261]\n",
      " [0.46676165 0.86834116]\n",
      " [0.49575777 0.8752435 ]\n",
      " [0.49332457 0.8606127 ]\n",
      " [0.4949926  0.86074501]\n",
      " [0.48734348 0.8655758 ]\n",
      " [0.53424212 0.99308443]\n",
      " [0.45960904 0.82089571]\n",
      " [0.46049889 0.86734631]\n",
      " [0.53269344 0.95817676]\n",
      " [0.46725254 0.8250342 ]\n",
      " [0.46676165 0.86834116]\n",
      " [0.48992443 0.88694412]\n",
      " [0.49332457 0.8606127 ]\n",
      " [0.4949926  0.86074501]\n",
      " [0.48734348 0.8655758 ]\n",
      " [0.48872984 0.8577758 ]]\n"
     ]
    }
   ],
   "source": [
    "# Create prediction models by cluster\n",
    "# 나중에 `cluter_key`의 숫자를 바꿔서 클러스터 별 model fitting 가능\n",
    "model_1_pred = predict_by_cluster(cluster_key=1, predicting_spot=215)\n"
   ]
  },
  {
   "cell_type": "markdown",
   "metadata": {},
   "source": [
    "소수점으로 나오는 것을 봐서, 연구자가 사용한 R-code를 참고해야 할 것 같습니다. - Counting value 이니 정수로 나와야 하기 때문"
   ]
  },
  {
   "cell_type": "markdown",
   "metadata": {},
   "source": [
    "## (4) Ordering\n",
    "\n",
    "- 주문량 결정을 위해서는 weight가 필요함.\n",
    "- 연구자는 weight 계산을 위해서, 가격을 z-normalize 후, z-norm 값을 시그모이드 함수에 집어넣음.\n",
    "\n",
    "현재 가격 정보 제공되지 않았으므로, weight 구할 수 없음."
   ]
  },
  {
   "cell_type": "markdown",
   "metadata": {},
   "source": []
  }
 ],
 "metadata": {
  "kernelspec": {
   "display_name": "hecon23",
   "language": "python",
   "name": "python3"
  },
  "language_info": {
   "codemirror_mode": {
    "name": "ipython",
    "version": 3
   },
   "file_extension": ".py",
   "mimetype": "text/x-python",
   "name": "python",
   "nbconvert_exporter": "python",
   "pygments_lexer": "ipython3",
   "version": "3.10.0"
  },
  "orig_nbformat": 4
 },
 "nbformat": 4,
 "nbformat_minor": 2
}
